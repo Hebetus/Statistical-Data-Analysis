{
 "cells": [
  {
   "cell_type": "raw",
   "id": "20ca2792-f94a-4782-9fad-9dab414662cf",
   "metadata": {},
   "source": [
    "The purpose of this project is to conduct a statistical analysis and report according to the provided instructions and the data included"
   ]
  },
  {
   "cell_type": "raw",
   "id": "d9cfdfc5-9ba8-4cdc-b23a-a13a13f370df",
   "metadata": {},
   "source": [
    "We began our analysis with checking the data file and preparing it for analysis"
   ]
  },
  {
   "cell_type": "code",
   "execution_count": 9,
   "id": "504dcff5-462c-41ea-97e4-9baa0544ffbb",
   "metadata": {},
   "outputs": [
    {
     "name": "stdout",
     "output_type": "stream",
     "text": [
      "     kohde  jasen  pvknro  sp  ASALUE  IKAL1   V1  V5   V7 V21  ... V40 V68  \\\n",
      "0    50002      1       1   1     1.0      6    0   0    0   0  ...   0   0   \n",
      "1    50002      1       2   1     1.0      6  380  10    0   0  ...   0  10   \n",
      "2    50003      1       1   2     2.0      5    0  60  NaN  50  ...   0  30   \n",
      "3    50003      1       2   2     2.0      5    0  50   10  50  ...   0   0   \n",
      "4    50004      2       1   1     1.0      7  640   0  NaN   0  ...   0   0   \n",
      "..     ...    ...     ...  ..     ...    ...  ...  ..  ...  ..  ...  ..  ..   \n",
      "740  51980      1       2   2     2.0      6  460  20    0   0  ...   0  30   \n",
      "741  51981      2       1   1     1.0      5    0   0    0   0  ...   0   0   \n",
      "742  51981      2       2   1     1.0      5    0   0    0  10  ...   0   0   \n",
      "743  51983      1       1   2     3.0      8  NaN  40   30   0  ...   0  20   \n",
      "744  51983      1       2   2     3.0      8    0  90   10   0  ...   0  30   \n",
      "\n",
      "     V69  V70 V75 H1a_A H1b_A H1g_A H1h_A  H1i_A  \n",
      "0      0  210   0   2.0   2.0   1.0   1.0    1.0  \n",
      "1      0  130   0   2.0   2.0   1.0   1.0    1.0  \n",
      "2      0  180   0   2.0   1.0   1.0   1.0    1.0  \n",
      "3      0   90   0   2.0   1.0   1.0   1.0    1.0  \n",
      "4      0   60   0   2.0   1.0   2.0   1.0    1.0  \n",
      "..   ...  ...  ..   ...   ...   ...   ...    ...  \n",
      "740  NaN   80  10   1.0   1.0   1.0   2.0    1.0  \n",
      "741    0  300   0   NaN   NaN   NaN   NaN    NaN  \n",
      "742    0  190   0   NaN   NaN   NaN   NaN    NaN  \n",
      "743    0  140  10   1.0   2.0   1.0   1.0    2.0  \n",
      "744    0  490  30   1.0   2.0   1.0   1.0    2.0  \n",
      "\n",
      "[745 rows x 24 columns]\n"
     ]
    }
   ],
   "source": [
    "# Necessary imports\n",
    "\n",
    "import pandas as P\n",
    "\n",
    "# Load data\n",
    "\n",
    "data = P.read_csv('habits.csv',\n",
    "                 sep = ';',\n",
    "                 na_values = '?')\n",
    "print(data)"
   ]
  },
  {
   "cell_type": "raw",
   "id": "08628fa7-4d70-465f-af29-614fb2a26619",
   "metadata": {},
   "source": [
    "Potential groups of similar people (ie. demographic groups are):\n",
    "2. Men and women\n",
    "3. Nine separate age groups\n",
    "4. Place of living: city, municipality or rural area"
   ]
  },
  {
   "cell_type": "raw",
   "id": "95a711d3-7982-478c-9cae-5af0e36d6281",
   "metadata": {},
   "source": [
    "We can determine the average amount of daily time spent on each activity"
   ]
  },
  {
   "cell_type": "code",
   "execution_count": 56,
   "id": "352df121-d2ef-4210-9212-190a27985003",
   "metadata": {},
   "outputs": [],
   "source": [
    "# Necessary imports\n",
    "\n",
    "import pandas as P\n",
    "\n",
    "# Load data\n",
    "\n",
    "data = P.read_csv('habits.csv',\n",
    "                 sep = ';',\n",
    "                 na_values = '?')\n",
    "\n",
    "# Choose columns which describe time spent on an activity, fill out missing values 0\n",
    "\n",
    "total_time = data.iloc[:,6:19]\n",
    "total_time = total_time.fillna(0)\n",
    "\n",
    "# Have to iterate whole dataframe to replace malformatted values\n",
    "\n",
    "for column in total_time:\n",
    "    data = total_time[column]\n",
    "    row_number = 0\n",
    "\n",
    "    for item in data:\n",
    "        actual_value = 0\n",
    "        \n",
    "        if isinstance(item, str):\n",
    "            if item.find(':') != -1:\n",
    "                actual_value = item[1:2]\n",
    "                total_time.loc[row_number, column] = actual_value\n",
    "                \n",
    "        row_number += 1\n",
    "\n",
    "total_time = total_time.astype(int)"
   ]
  },
  {
   "cell_type": "raw",
   "id": "36f5b8e0-2f3a-437f-823a-0f7d087a8881",
   "metadata": {},
   "source": [
    "Average daily times spent on each activity (in minutes):\n",
    "V1 - working                              107.334228\n",
    "V5 - cooking                              28.616107\n",
    "V7 - washing dishes                       9.577181\n",
    "V21 - childcare                           10.029530\n",
    "V22 - reading and playing with children   4.425503\n",
    "V27 - shopping                            19.871141\n",
    "V32 - sleeping                            458.520805\n",
    "V33 - dining                              76.606711\n",
    "V40 - studying in school                  0.829530\n",
    "V68 - reading                             42.264430\n",
    "V69 - listening to radio                  6.855034\n",
    "V70 - watching TV                         126.677852\n",
    "V75 - phonecall                           5.543624"
   ]
  },
  {
   "cell_type": "raw",
   "id": "cdc4cc2a-7bd6-41bb-9851-c5132830c0ce",
   "metadata": {},
   "source": [
    "Analyse data based on different living envoronments"
   ]
  },
  {
   "cell_type": "code",
   "execution_count": 74,
   "id": "6345d0df-daa3-41ef-b34c-1152221860d3",
   "metadata": {},
   "outputs": [
    {
     "name": "stdout",
     "output_type": "stream",
     "text": [
      "                V1         V5         V7        V21       V22        V27  \\\n",
      "ASALUE                                                                     \n",
      "1        98.661017  28.877119   9.436441   8.870763  4.082627  22.008475   \n",
      "2       131.895652  29.852174  10.173913  19.826087  8.956522  21.234783   \n",
      "3       115.367089  26.936709   9.563291   6.360759  2.151899  12.493671   \n",
      "\n",
      "               V32        V33       V40        V68       V69         V70  \\\n",
      "ASALUE                                                                     \n",
      "1       461.476695  76.671610  0.567797  47.970339  7.506356  126.351695   \n",
      "2       448.582609  72.295652  0.000000  24.826087  4.782609  134.695652   \n",
      "3       456.924051  79.550633  2.215190  37.911392  6.417722  121.816456   \n",
      "\n",
      "             V75  \n",
      "ASALUE            \n",
      "1       6.016949  \n",
      "2       4.173913  \n",
      "3       5.126582  \n"
     ]
    }
   ],
   "source": [
    "# Necessary imports\n",
    "\n",
    "import pandas as P\n",
    "\n",
    "# Load data\n",
    "\n",
    "data = P.read_csv('habits.csv',\n",
    "                 sep = ';',\n",
    "                 na_values = '?')\n",
    "\n",
    "total_time_environments = data.iloc[:, [4, 6, 7, 8, 9, 10, 11, 12, 13, 14, 15, 16, 17, 18]]\n",
    "total_time_environments = total_time_environments.fillna(0)\n",
    "\n",
    "for column in total_time_environments:\n",
    "    data = total_time_environments[column]\n",
    "    row_number = 0\n",
    "\n",
    "    for item in data:\n",
    "        actual_value = 0\n",
    "        \n",
    "        if isinstance(item, str):\n",
    "            if item.find(':') != -1:\n",
    "                actual_value = item[1:2]\n",
    "                total_time_environments.loc[row_number, column] = actual_value\n",
    "                \n",
    "        row_number += 1\n",
    "\n",
    "total_time_environments = total_time_environments.astype(int)\n",
    "grouped = total_time_environments.groupby('ASALUE').mean()"
   ]
  },
  {
   "cell_type": "raw",
   "id": "45e7deb5-0ee5-46c8-b60b-50468e0ceb63",
   "metadata": {},
   "source": [
    "The group that spends the most time working seems to be people living in municipalities, followed by those in rural areas, with city-dwellers working the least.\n",
    "\n",
    "The amount of time spent cooking is roughly the same, as well the amount of time spent on washing dishes.\n",
    "\n",
    "The most amount of time spent on childcare is by those living in municipalities, followed by cities and the least time spent in rural areas. This also applies to time spent by reading and playing with children.\n",
    "\n",
    "City-dwellers and municipal citizens spend almost the same amount of time on shopping (slightly higher for city-dwellers), while rural people only spend about half of that time on average on shopping.\n",
    "\n",
    "City-dwellers on average get the most amount of sleep per night, followed by rural citizens, with those living in municipalities getting the least.\n",
    "\n",
    "In contrast, rural dwellers spend the most amount of time on dining, followed by city-dwellers and municipal citizens spending the least amount of time.\n",
    "\n",
    "The population data shows that rural dwellers spend overwhelmingly the most amount of time studying in school, with city-dwellers on average spending 0 time studying in school.\n",
    "\n",
    "City-dwellers seem to read the most, followed by rural citizens and municipal dwellers spending the least time on reading. The same pattern also applies to time spent listening to the radio.\n",
    "\n",
    "The group that consumes most TV are municipal citizens however, with city-dwellers coming in second and rural people spending the least amount of time watching TV.\n",
    "\n",
    "With phonecalls city-dwellers are first, with rual people coming and second and municipal dwellers spending the least amount of time on it."
   ]
  },
  {
   "cell_type": "raw",
   "id": "cb34d13f-0058-496d-9ecf-16d1a87fe50b",
   "metadata": {},
   "source": [
    "Analyse data based on working days vs. weekends"
   ]
  },
  {
   "cell_type": "code",
   "execution_count": 81,
   "id": "9369eb29-0ec2-4e38-969c-13dc5c6597a2",
   "metadata": {},
   "outputs": [
    {
     "name": "stdout",
     "output_type": "stream",
     "text": [
      "                V1         V5         V7        V21       V22        V27  \\\n",
      "pvknro                                                                     \n",
      "1       108.257294  28.546419  10.408488   9.604775  3.694960  20.612732   \n",
      "2       106.388587  28.687500   8.725543  10.464674  5.173913  19.111413   \n",
      "\n",
      "               V32        V33       V40        V68       V69         V70  \\\n",
      "pvknro                                                                     \n",
      "1       455.230769  76.381963  1.639257  39.326260  7.734748  123.907162   \n",
      "2       461.891304  76.836957  0.000000  45.274457  5.953804  129.516304   \n",
      "\n",
      "             V75  \n",
      "pvknro            \n",
      "1       5.994695  \n",
      "2       5.081522  \n"
     ]
    }
   ],
   "source": [
    "# Necessary imports\n",
    "\n",
    "import pandas as P\n",
    "\n",
    "# Load data\n",
    "\n",
    "data = P.read_csv('habits.csv',\n",
    "                 sep = ';',\n",
    "                 na_values = '?')\n",
    "\n",
    "total_time_weekdays = data.iloc[:, [2, 6, 7, 8, 9, 10, 11, 12, 13, 14, 15, 16, 17, 18]]\n",
    "total_time_weekdays = total_time_weekdays.fillna(0)\n",
    "\n",
    "for column in total_time_weekdays:\n",
    "    data = total_time_weekdays[column]\n",
    "    row_number = 0\n",
    "\n",
    "    for item in data:\n",
    "        actual_value = 0\n",
    "        \n",
    "        if isinstance(item, str):\n",
    "            if item.find(':') != -1:\n",
    "                actual_value = item[1:2]\n",
    "                total_time_weekdays.loc[row_number, column] = actual_value\n",
    "                \n",
    "        row_number += 1\n",
    "\n",
    "total_time_weekdays = total_time_weekdays.astype(int)\n",
    "grouped = total_time_weekdays.groupby('pvknro').mean()\n",
    "print(grouped)"
   ]
  },
  {
   "cell_type": "raw",
   "id": "902c3fa4-6f32-4a25-b670-ce209bb8916a",
   "metadata": {},
   "source": [
    "The variables with notable differences in mean values when comparing workdays with weekends seem to be working, washing dishes, childcare, reading and playing with children, shopping, sleeping, studying in school, reading, listening to radio, watching tv and phone calls."
   ]
  },
  {
   "cell_type": "code",
   "execution_count": 104,
   "id": "251aef4b-3eb0-413f-a049-b0f76a054d81",
   "metadata": {},
   "outputs": [
    {
     "name": "stdout",
     "output_type": "stream",
     "text": [
      "kohde\n",
      "50002    2\n",
      "50003    2\n",
      "50004    2\n",
      "50005    2\n",
      "50006    2\n",
      "        ..\n",
      "51971    2\n",
      "51973    2\n",
      "51980    2\n",
      "51981    2\n",
      "51983    2\n",
      "Length: 378, dtype: int64\n",
      "kohde  jasen\n",
      "50002  1        2\n",
      "50003  1        2\n",
      "50004  2        2\n",
      "50005  1        2\n",
      "50006  1        2\n",
      "               ..\n",
      "51971  1        2\n",
      "51973  1        2\n",
      "51980  1        2\n",
      "51981  2        2\n",
      "51983  1        2\n",
      "Length: 378, dtype: int64\n"
     ]
    }
   ],
   "source": [
    "# Necessary imports\n",
    "\n",
    "import pandas as P\n",
    "import matplotlib.pyplot as M\n",
    "\n",
    "# Load data\n",
    "\n",
    "data = P.read_csv('habits.csv',\n",
    "                 sep = ';',\n",
    "                 na_values = '?')\n",
    "\n",
    "total_time = data.iloc[:, [0, 1, 6, 7, 8, 9, 10, 11, 12, 13, 14, 15, 16, 17, 18]]\n",
    "total_time = total_time.fillna(0)\n",
    "\n",
    "for column in total_time:\n",
    "    data = total_time[column]\n",
    "    row_number = 0\n",
    "\n",
    "    for item in data:\n",
    "        actual_value = 0\n",
    "        \n",
    "        if isinstance(item, str):\n",
    "            if item.find(':') != -1:\n",
    "                actual_value = item[1:2]\n",
    "                total_time.loc[row_number, column] = actual_value\n",
    "                \n",
    "        row_number += 1\n",
    "\n",
    "total_time = total_time.astype(int)\n",
    "total_time = total_time.sort_values(by = ['kohde'])\n",
    "\n",
    "# Check if there are multiple members within same household\n",
    "\n",
    "print(total_time.groupby(['kohde']).size())\n",
    "print(total_time.groupby(['kohde', 'jasen']).size())\n",
    "\n",
    "# Same length, proves that there is only one input for each household"
   ]
  },
  {
   "cell_type": "code",
   "execution_count": null,
   "id": "c0a3da35-2f53-4054-8cdb-713afc74b892",
   "metadata": {},
   "outputs": [],
   "source": []
  }
 ],
 "metadata": {
  "kernelspec": {
   "display_name": "Python 3 (ipykernel)",
   "language": "python",
   "name": "python3"
  },
  "language_info": {
   "codemirror_mode": {
    "name": "ipython",
    "version": 3
   },
   "file_extension": ".py",
   "mimetype": "text/x-python",
   "name": "python",
   "nbconvert_exporter": "python",
   "pygments_lexer": "ipython3",
   "version": "3.12.2"
  }
 },
 "nbformat": 4,
 "nbformat_minor": 5
}
